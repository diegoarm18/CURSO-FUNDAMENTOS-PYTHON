{
 "cells": [
  {
   "cell_type": "markdown",
   "metadata": {},
   "source": [
    "1. Gestión de Inventario de Productos\n",
    "Descripción:\n",
    "Se debe desarrollar un sistema que administre un inventario compuesto por productos y sus cantidades. El programa presentará el listado inicial y resaltará aquellos artículos cuyo stock esté por debajo de un umbral definido. Luego, permitirá actualizar la cantidad de un producto específico, mostrando el inventario antes y después de la modificación."
   ]
  },
  {
   "cell_type": "code",
   "execution_count": null,
   "metadata": {
    "vscode": {
     "languageId": "plaintext"
    }
   },
   "outputs": [],
   "source": [
    "\n",
    "\n",
    "\n",
    "inventario = {\n",
    "    \"Manzanas\": 50,\n",
    "    \"Plátanos\": 30,\n",
    "    \"Naranjas\": 20,\n",
    "    \"Peras\": 10\n",
    "}\n",
    "\n",
    "# Umbral de stock bajo\n",
    "umbral = 15\n",
    "\n",
    "while True:\n",
    "    print(\"\\nOpciones:\")\n",
    "    print(\"1. Mostrar inventario\")\n",
    "    print(\"2. Actualizar stock de un producto\")\n",
    "    print(\"3. Salir\")\n",
    "\n",
    "    opcion = input(\"Selecciona una opción: \")\n",
    "\n",
    "    if opcion == \"1\":\n",
    "        print(\"\\nInventario:\")\n",
    "        for producto, cantidad in inventario.items():\n",
    "            estado = \" Bajo stock\" if cantidad < umbral else \" Suficiente stock\"\n",
    "            print(f\"{producto}: {cantidad} ({estado})\")\n",
    "\n",
    "    elif opcion == \"2\":\n",
    "        producto = input(\"Ingresa el nombre del producto: \")\n",
    "        if producto in inventario:\n",
    "            print(f\"Cantidad actual: {inventario[producto]}\")\n",
    "            nueva_cantidad = int(input(f\"Ingrese la nueva cantidad para {producto}: \"))\n",
    "            print(f\"Cantidad anterior: {inventario[producto]}\")\n",
    "            inventario[producto] = nueva_cantidad\n",
    "            print(f\"Cantidad actualizada: {inventario[producto]}\")\n",
    "        else:\n",
    "            print(f\"El producto '{producto}' no se encuentra en el inventario.\")\n",
    "\n",
    "    elif opcion == \"3\":\n",
    "        print(\"Saliendo del programa...\")\n",
    "        break\n",
    "\n",
    "    else:\n",
    "        print(\"Opción no válida. Intenta nuevamente.\")\n"
   ]
  },
  {
   "cell_type": "markdown",
   "metadata": {},
   "source": [
    "2. Búsqueda de Palabras en un Texto\n",
    "Descripción:\n",
    "Crea una aplicación que solicite al usuario un párrafo y, a continuación, le permita buscar una palabra específica. El sistema debe contar cuántas veces aparece dicha palabra en el texto, mostrar las posiciones donde se encuentra (sin distinguir mayúsculas de minúsculas) y comunicar el resultado al usuario.\n",
    "\n"
   ]
  },
  {
   "cell_type": "code",
   "execution_count": null,
   "metadata": {
    "vscode": {
     "languageId": "plaintext"
    }
   },
   "outputs": [],
   "source": [
    "\n",
    "parrafo = input(\"Ingresa un párrafo: \")\n",
    "\n",
    "\n",
    "parrafo_minusculas = parrafo.lower()\n",
    "\n",
    "\n",
    "palabra_buscar = input(\"Ingresa la palabra que deseas buscar: \").lower()\n",
    "\n",
    "\n",
    "palabras = parrafo_minusculas.split()\n",
    "\n",
    "conteo = palabras.count(palabra_buscar)\n",
    "\n",
    "\n",
    "posiciones = [i + 1 for i, palabra in enumerate(palabras) if palabra == palabra_buscar]\n",
    "\n",
    "print(f\"\\nLa palabra '{palabra_buscar}' aparece {conteo} vez/veces en el párrafo.\")\n",
    "if conteo > 0:\n",
    "    print(f\"Posiciones: {posiciones}\")\n",
    "else:\n",
    "    print(\"La palabra no se encuentra en el texto.\")\n"
   ]
  },
  {
   "cell_type": "markdown",
   "metadata": {},
   "source": [
    "3. Conversión y Limpieza de Texto\n",
    "Descripción:\n",
    "Diseña una solución que pida al usuario una frase, la divida en palabras y elimine cualquier carácter no alfabético de cada una. Una vez procesada la información, la estructura resultante se transformará en una forma inmutable, y se presentará el contenido final al usuario de manera ordenada."
   ]
  },
  {
   "cell_type": "code",
   "execution_count": null,
   "metadata": {
    "vscode": {
     "languageId": "plaintext"
    }
   },
   "outputs": [],
   "source": [
    "frase = input(\"Ingresa una frase: \")\n",
    "\n",
    "palabras = frase.split()\n",
    "\n",
    "palabras_limpiadas = [\"\".join([caracter for caracter in palabra if caracter.isalpha()]) for palabra in palabras]\n",
    "\n",
    "palabras_inmutables = tuple(palabras_limpiadas)\n",
    "\n",
    "\n",
    "palabras_ordenadas = sorted(palabras_inmutables)\n",
    "\n",
    "\n",
    "print(\"\\nContenido final:\")\n",
    "print(palabras_ordenadas)\n"
   ]
  },
  {
   "cell_type": "markdown",
   "metadata": {},
   "source": [
    "4. Registro y Consulta de Calificaciones de Exámenes\n",
    "Descripción:\n",
    "Implementa un sistema que gestione un registro de estudiantes y sus calificaciones. El programa debe permitir agregar nuevos registros, listar todos los existentes y consultar la calificación de un estudiante introduciendo su nombre. Se espera que la información se actualice y se presente de forma clara en cada paso."
   ]
  },
  {
   "cell_type": "code",
   "execution_count": null,
   "metadata": {
    "vscode": {
     "languageId": "plaintext"
    }
   },
   "outputs": [],
   "source": [
    "\n",
    "registros = {}\n",
    "\n",
    "while True:\n",
    "    print(\"\\nOpciones:\")\n",
    "    print(\"1. Agregar un nuevo registro\")\n",
    "    print(\"2. Listar todos los registros\")\n",
    "    print(\"3. Consultar calificación de un estudiante\")\n",
    "    print(\"4. Salir\")\n",
    "\n",
    "    opcion = input(\"Selecciona una opción: \")\n",
    "\n",
    "    if opcion == \"1\":\n",
    "        nombre = input(\"Ingresa el nombre del estudiante: \").strip()\n",
    "        calificacion = float(input(f\"Ingresa la calificación de {nombre}: \"))\n",
    "        registros[nombre] = calificacion\n",
    "        print(f\"Registro agregado: {nombre} con calificación {calificacion}.\")\n",
    "\n",
    "    elif opcion == \"2\":\n",
    "        if registros:\n",
    "            print(\"\\nRegistros existentes:\")\n",
    "            for nombre, calificacion in registros.items():\n",
    "                print(f\"{nombre}: {calificacion}\")\n",
    "        else:\n",
    "            print(\"\\nNo hay registros aún.\")\n",
    "\n",
    "    elif opcion == \"3\":\n",
    "        nombre = input(\"Ingresa el nombre del estudiante para consultar: \").strip()\n",
    "        if nombre in registros:\n",
    "            print(f\"{nombre} tiene una calificación de {registros[nombre]}.\")\n",
    "        else:\n",
    "            print(f\"No se encontró un registro para el estudiante '{nombre}'.\")\n",
    "\n",
    "    elif opcion == \"4\":\n",
    "        \n",
    "        print(\"Saliendo del sistema...\")\n",
    "        break\n",
    "\n",
    "    else:\n",
    "        print(\"Opción no válida. Intenta nuevamente.\")\n"
   ]
  },
  {
   "cell_type": "markdown",
   "metadata": {},
   "source": [
    "5. Calculadora de Estadísticas de Números\n",
    "Descripción:\n",
    "Desarrolla una aplicación que trabaje con una colección de números predefinidos. El sistema debe ofrecer al usuario un menú interactivo con opciones para calcular el promedio, identificar el valor máximo y mínimo, o eliminar un número. Tras cada operación, se mostrará tanto el resultado como el estado actual de la colección."
   ]
  },
  {
   "cell_type": "code",
   "execution_count": null,
   "metadata": {
    "vscode": {
     "languageId": "plaintext"
    }
   },
   "outputs": [],
   "source": [
    "\n",
    "numeros = [10, 20, 30, 40, 50]\n",
    "\n",
    "while True:\n",
    "    print(\"\\nOpciones:\")\n",
    "    print(\"1. Calcular el promedio\")\n",
    "    print(\"2. Identificar el valor máximo y mínimo\")\n",
    "    print(\"3. Eliminar un número\")\n",
    "    print(\"4. Salir\")\n",
    "\n",
    "    opcion = input(\"Selecciona una opción: \")\n",
    "\n",
    "    if opcion == \"1\":\n",
    "        if numeros:\n",
    "            promedio = sum(numeros) / len(numeros)\n",
    "            print(f\"El promedio es: {promedio}\")\n",
    "        else:\n",
    "            print(\"La colección está vacía.\")\n",
    "\n",
    "    elif opcion == \"2\":\n",
    "        if numeros:\n",
    "            maximo = max(numeros)\n",
    "            minimo = min(numeros)\n",
    "            print(f\"El valor máximo es: {maximo}\")\n",
    "            print(f\"El valor mínimo es: {minimo}\")\n",
    "        else:\n",
    "            print(\"La colección está vacía.\")\n",
    "\n",
    "    elif opcion == \"3\":\n",
    "        if numeros:\n",
    "            print(f\"Estado actual de la colección: {numeros}\")\n",
    "            numero_a_eliminar = int(input(\"Ingresa el número que deseas eliminar: \"))\n",
    "            if numero_a_eliminar in numeros:\n",
    "                numeros.remove(numero_a_eliminar)\n",
    "                print(f\"El número {numero_a_eliminar} fue eliminado.\")\n",
    "                print(f\"Estado actual de la colección: {numeros}\")\n",
    "            else:\n",
    "                print(f\"El número {numero_a_eliminar} no se encuentra en la colección.\")\n",
    "        else:\n",
    "            print(\"La colección está vacía.\")\n",
    "\n",
    "    elif opcion == \"4\":\n",
    "        print(\"Saliendo de la aplicación...\")\n",
    "        break\n",
    "\n",
    "    else:\n",
    "        print(\"Opción no válida. Intenta nuevamente.\")\n"
   ]
  }
 ],
 "metadata": {
  "language_info": {
   "name": "python"
  }
 },
 "nbformat": 4,
 "nbformat_minor": 2
}
