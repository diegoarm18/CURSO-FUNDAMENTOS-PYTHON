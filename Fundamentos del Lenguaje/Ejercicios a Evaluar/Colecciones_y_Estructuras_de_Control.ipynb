{
 "cells": [
  {
   "cell_type": "markdown",
   "metadata": {},
   "source": [
    "1. Gestión de Inventario de Productos\n",
    "Descripción:\n",
    "Se debe desarrollar un sistema que administre un inventario compuesto por productos y sus cantidades. El programa presentará el listado inicial y resaltará aquellos artículos cuyo stock esté por debajo de un umbral definido. Luego, permitirá actualizar la cantidad de un producto específico, mostrando el inventario antes y después de la modificación."
   ]
  },
  {
   "cell_type": "markdown",
   "metadata": {},
   "source": [
    "1 Solucion"
   ]
  },
  {
   "cell_type": "code",
   "execution_count": null,
   "metadata": {},
   "outputs": [],
   "source": [
    "\n",
    "lista_productos = [\"Manzanas\", \"Naranjas\", \"Piñas\"]\n",
    "lista_cantidades = [50, 25, 10]\n",
    "\n",
    "\n",
    "print(\"Inventario inicial:\")\n",
    "for i in range(len(lista_productos)):\n",
    "  \n",
    "    print(f\"{i+1}. {lista_productos[i].upper()} - {lista_cantidades[i]} UNIDADES\")\n",
    "\n",
    "producto_actualizar = int(input(\"\\nINGRESE EL PRODUCTO A ACTUALIZAR: \")) - 1\n",
    "nueva_cantidad = int(input(\"INGRESE LA CANTIDAD A ACTUALIZAR: \"))\n",
    "\n",
    "lista_cantidades[producto_actualizar] = nueva_cantidad\n",
    "\n",
    "\n",
    "print(\"\\nInventario actualizado:\")\n",
    "for i in range(len(lista_productos)):\n",
    "    print(f\"{i+1}. {lista_productos[i].upper()} - {lista_cantidades[i]} UNIDADES\")"
   ]
  },
  {
   "cell_type": "markdown",
   "metadata": {},
   "source": [
    "2. Búsqueda de Palabras en un Texto\n",
    "Descripción:\n",
    "Crea una aplicación que solicite al usuario un párrafo y, a continuación, le permita buscar una palabra específica. El sistema debe contar cuántas veces aparece dicha palabra en el texto, mostrar las posiciones donde se encuentra (sin distinguir mayúsculas de minúsculas) y comunicar el resultado al usuario.\n",
    "\n"
   ]
  },
  {
   "cell_type": "markdown",
   "metadata": {},
   "source": [
    "2 Solucion"
   ]
  },
  {
   "cell_type": "code",
   "execution_count": null,
   "metadata": {},
   "outputs": [],
   "source": [
    "\n",
    "texto = input(\"Ingrese un párrafo:\\n\")\n",
    "\n",
    "\n",
    "palabra = input(\"\\nIngrese la palabra que desea buscar: \")\n",
    "\n",
    "\n",
    "texto_min = texto.lower()\n",
    "palabra_min = palabra.lower()\n",
    "\n",
    "\n",
    "contador = 0\n",
    "posiciones = []\n",
    "\n",
    "\n",
    "pos = texto_min.find(palabra_min)\n",
    "while pos != -1:\n",
    "    contador += 1\n",
    "    posiciones.append(pos)\n",
    "    pos = texto_min.find(palabra_min, pos + 1)\n",
    "\n",
    "\n",
    "print(f\"\\nLa palabra '{palabra}' aparece {contador} veces.\")\n",
    "if contador > 0:\n",
    "    print(\"Posiciones en el texto (índice inicial):\", posiciones)\n",
    "else:\n",
    "    print(\"La palabra no se encontró en el texto.\")\n"
   ]
  },
  {
   "cell_type": "markdown",
   "metadata": {},
   "source": [
    "3. Conversión y Limpieza de Texto\n",
    "Descripción:\n",
    "Diseña una solución que pida al usuario una frase, la divida en palabras y elimine cualquier carácter no alfabético de cada una. Una vez procesada la información, la estructura resultante se transformará en una forma inmutable, y se presentará el contenido final al usuario de manera ordenada."
   ]
  },
  {
   "cell_type": "code",
   "execution_count": null,
   "metadata": {},
   "outputs": [],
   "source": [
    "import re\n",
    "\n",
    "\n",
    "frase = input(\"Ingrese una frase: \")\n",
    "\n",
    "\n",
    "palabras = frase.split()\n",
    "\n",
    "\n",
    "palabras_limpias = [re.sub(r'[^a-zA-ZáéíóúÁÉÍÓÚñÑ]', '', palabra) for palabra in palabras]\n",
    "\n",
    "\n",
    "tupla_palabras = tuple(palabras_limpias)\n",
    "\n",
    "\n",
    "tupla_ordenada = tuple(sorted(tupla_palabras, key=str.lower))\n",
    "\n",
    "print(\"\\nContenido final procesado (ordenado y limpio):\")\n",
    "for palabra in tupla_ordenada:\n",
    "    print(palabra)\n"
   ]
  },
  {
   "cell_type": "markdown",
   "metadata": {},
   "source": [
    "4. Registro y Consulta de Calificaciones de Exámenes\n",
    "Descripción:\n",
    "Implementa un sistema que gestione un registro de estudiantes y sus calificaciones. El programa debe permitir agregar nuevos registros, listar todos los existentes y consultar la calificación de un estudiante introduciendo su nombre. Se espera que la información se actualice y se presente de forma clara en cada paso."
   ]
  },
  {
   "cell_type": "markdown",
   "metadata": {},
   "source": [
    "4 Solucion"
   ]
  },
  {
   "cell_type": "code",
   "execution_count": null,
   "metadata": {},
   "outputs": [],
   "source": [
    "\n",
    "calificaciones = {}\n",
    "\n",
    "def agregar_estudiante():\n",
    "    nombre = input(\"Ingrese el nombre del estudiante: \").strip()\n",
    "    nota = float(input(\"Ingrese la calificación del estudiante: \"))\n",
    "    calificaciones[nombre] = nota\n",
    "    print(f\" Registro agregado: {nombre} - {nota}\\n\")\n",
    "\n",
    "def listar_estudiantes():\n",
    "    if not calificaciones:\n",
    "        print(\"📭 No hay registros aún.\\n\")\n",
    "    else:\n",
    "        print(\"\\n Lista de estudiantes y calificaciones:\")\n",
    "        for nombre, nota in calificaciones.items():\n",
    "            print(f\"- {nombre}: {nota}\")\n",
    "        print()\n",
    "\n",
    "def consultar_calificacion():\n",
    "    nombre = input(\"Ingrese el nombre del estudiante a consultar: \").strip()\n",
    "    if nombre in calificaciones:\n",
    "        print(f\"🎓 {nombre} tiene una calificación de: {calificaciones[nombre]}\\n\")\n",
    "    else:\n",
    "        print(\" Estudiante no encontrado.\\n\")\n",
    "\n",
    "while True:\n",
    "    print(\" Sistema de Registro de Calificaciones\")\n",
    "    print(\"1. Agregar estudiante\")\n",
    "    print(\"2. Listar todos los estudiantes\")\n",
    "    print(\"3. Consultar calificación de un estudiante\")\n",
    "    print(\"4. Salir\")\n",
    "\n",
    "    opcion = input(\"Seleccione una opción (1-4): \")\n",
    "\n",
    "    if opcion == \"1\":\n",
    "        agregar_estudiante()\n",
    "    elif opcion == \"2\":\n",
    "        listar_estudiantes()\n",
    "    elif opcion == \"3\":\n",
    "        consultar_calificacion()\n",
    "    elif opcion == \"4\":\n",
    "        print(\"Saliendo del sistema. ¡Hasta pronto!\")\n",
    "        break\n",
    "    else:\n",
    "        print(\" Opción no válida. Intente nuevamente.\\n\")\n"
   ]
  },
  {
   "cell_type": "markdown",
   "metadata": {},
   "source": [
    "5. Calculadora de Estadísticas de Números\n",
    "Descripción:\n",
    "Desarrolla una aplicación que trabaje con una colección de números predefinidos. El sistema debe ofrecer al usuario un menú interactivo con opciones para calcular el promedio, identificar el valor máximo y mínimo, o eliminar un número. Tras cada operación, se mostrará tanto el resultado como el estado actual de la colección."
   ]
  },
  {
   "cell_type": "markdown",
   "metadata": {},
   "source": [
    "5 Solucion"
   ]
  },
  {
   "cell_type": "code",
   "execution_count": null,
   "metadata": {},
   "outputs": [],
   "source": [
    "\n",
    "numeros = [12, 45, 67, 23, 89, 34, 10]\n",
    "\n",
    "def mostrar_lista():\n",
    "    print(f\"\\n Estado actual de la colección: {numeros}\\n\")\n",
    "\n",
    "def calcular_promedio():\n",
    "    if numeros:\n",
    "        promedio = sum(numeros) / len(numeros)\n",
    "        print(f\" Promedio: {promedio:.2f}\")\n",
    "    else:\n",
    "        print(\" La lista está vacía.\")\n",
    "    mostrar_lista()\n",
    "\n",
    "def valor_maximo():\n",
    "    if numeros:\n",
    "        print(f\" Valor máximo: {max(numeros)}\")\n",
    "    else:\n",
    "        print(\" La lista está vacía.\")\n",
    "    mostrar_lista()\n",
    "\n",
    "def valor_minimo():\n",
    "    if numeros:\n",
    "        print(f\"🔽 Valor mínimo: {min(numeros)}\")\n",
    "    else:\n",
    "        print(\" La lista está vacía.\")\n",
    "    mostrar_lista()\n",
    "\n",
    "def eliminar_numero():\n",
    "    if not numeros:\n",
    "        print(\" No hay números para eliminar.\")\n",
    "        return\n",
    "    try:\n",
    "        num = int(input(\"Ingrese el número que desea eliminar: \"))\n",
    "        if num in numeros:\n",
    "            numeros.remove(num)\n",
    "            print(f\"✅ Número {num} eliminado correctamente.\")\n",
    "        else:\n",
    "            print(\" El número no está en la lista.\")\n",
    "    except ValueError:\n",
    "        print(\" Entrada inválida. Debe ser un número.\")\n",
    "    mostrar_lista()\n",
    "\n",
    "# Menú principal\n",
    "while True:\n",
    "    print(\" Calculadora de Estadísticas de Números\")\n",
    "    print(\"1. Calcular promedio\")\n",
    "    print(\"2. Mostrar valor máximo\")\n",
    "    print(\"3. Mostrar valor mínimo\")\n",
    "    print(\"4. Eliminar un número\")\n",
    "    print(\"5. Ver colección actual\")\n",
    "    print(\"6. Salir\")\n",
    "\n",
    "    opcion = input(\"Seleccione una opción (1-6): \")\n",
    "\n",
    "    if opcion == \"1\":\n",
    "        calcular_promedio()\n",
    "    elif opcion == \"2\":\n",
    "        valor_maximo()\n",
    "    elif opcion == \"3\":\n",
    "        valor_minimo()\n",
    "    elif opcion == \"4\":\n",
    "        eliminar_numero()\n",
    "    elif opcion == \"5\":\n",
    "        mostrar_lista()\n",
    "    elif opcion == \"6\":\n",
    "        print(\" Saliendo del sistema. ¡Hasta luego!\")\n",
    "        break\n",
    "    else:\n",
    "        print(\" Opción no válida. Intente nuevamente.\\n\")\n"
   ]
  }
 ],
 "metadata": {
  "language_info": {
   "name": "python"
  }
 },
 "nbformat": 4,
 "nbformat_minor": 2
}
